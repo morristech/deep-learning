{
 "cells": [
  {
   "cell_type": "markdown",
   "metadata": {},
   "source": [
    "# Basic Classification Example with TensorFlow\n",
    "\n",
    "This notebook is a companion of [A Visual and Interactive Guide to the Basics of Neural Networks](https://jalammar.github.io/visual-interactive-guide-basics-neural-networks/).\n",
    "\n",
    "This is an example of how to do classification on a simple dataset in TensorFlow. Basically, we're building a model to help a friend choose a house to buy. She has given us the table below of houses and whether she likes them or not. We're to build a model that takes a house area and number of bathrooms as input, and outputs a prediction of whether she would like the house or not.\n",
    "\n",
    "| Area (sq ft) (x1) | Bathrooms (x2) | Label (y) |\n",
    " | --- | --- | --- |\n",
    " | 2,104 |  3 | Good |\n",
    " | 1,600 |  3 | Good |\n",
    " | 2,400 |  3 | Good |\n",
    " | 1,416 | \t2 | Bad |\n",
    " | 3,000 | \t4 | Bad |\n",
    " | 1,985 | \t4 | Good |\n",
    " | 1,534 | \t3 | Bad |\n",
    " | 1,427 | \t3 | Good |\n",
    " | 1,380 | \t3 | Good |\n",
    " | 1,494 | \t3 | Good |\n",
    " \n",
    " \n",
    " \n",
    " We'll start by loading our favorite libraries"
   ]
  },
  {
   "cell_type": "code",
   "execution_count": 2,
   "metadata": {
    "collapsed": true
   },
   "outputs": [],
   "source": [
    "%matplotlib inline               \n",
    "import pandas as pd              # A beautiful library to help us work with data as tables\n",
    "import numpy as np               # So we can use number matrices. Both pandas and TensorFlow need it. \n",
    "import matplotlib.pyplot as plt  # Visualize the things\n",
    "import tensorflow as tf          # Fire from the gods\n"
   ]
  },
  {
   "cell_type": "markdown",
   "metadata": {},
   "source": [
    "We'll then load the house data CSV. Pandas is an incredible library that gives us great flexibility in dealing with table-like data. We load tables (or csv files, or excel sheets) into a \"data frame\", and process it however we like. You can think of it as a programatic way to do a lot of the things you previously did with Excel."
   ]
  },
  {
   "cell_type": "code",
   "execution_count": 28,
   "metadata": {
    "scrolled": true
   },
   "outputs": [
    {
     "data": {
      "text/html": [
       "<div>\n",
       "<style>\n",
       "    .dataframe thead tr:only-child th {\n",
       "        text-align: right;\n",
       "    }\n",
       "\n",
       "    .dataframe thead th {\n",
       "        text-align: left;\n",
       "    }\n",
       "\n",
       "    .dataframe tbody tr th {\n",
       "        vertical-align: top;\n",
       "    }\n",
       "</style>\n",
       "<table border=\"1\" class=\"dataframe\">\n",
       "  <thead>\n",
       "    <tr style=\"text-align: right;\">\n",
       "      <th></th>\n",
       "      <th>Calories Burned</th>\n",
       "      <th>Steps</th>\n",
       "      <th>Distance</th>\n",
       "      <th>Minutes Sedentary</th>\n",
       "      <th>Minutes Lightly Active</th>\n",
       "      <th>Minutes Fairly Active</th>\n",
       "      <th>Minutes Very Active</th>\n",
       "      <th>Activity Calories</th>\n",
       "    </tr>\n",
       "  </thead>\n",
       "  <tbody>\n",
       "    <tr>\n",
       "      <th>0</th>\n",
       "      <td>2615</td>\n",
       "      <td>5527</td>\n",
       "      <td>4.41</td>\n",
       "      <td>739</td>\n",
       "      <td>153</td>\n",
       "      <td>42</td>\n",
       "      <td>31</td>\n",
       "      <td>1134</td>\n",
       "    </tr>\n",
       "    <tr>\n",
       "      <th>1</th>\n",
       "      <td>2372</td>\n",
       "      <td>5175</td>\n",
       "      <td>3.61</td>\n",
       "      <td>806</td>\n",
       "      <td>118</td>\n",
       "      <td>21</td>\n",
       "      <td>27</td>\n",
       "      <td>816</td>\n",
       "    </tr>\n",
       "    <tr>\n",
       "      <th>2</th>\n",
       "      <td>3045</td>\n",
       "      <td>9914</td>\n",
       "      <td>7.52</td>\n",
       "      <td>577</td>\n",
       "      <td>238</td>\n",
       "      <td>43</td>\n",
       "      <td>41</td>\n",
       "      <td>1659</td>\n",
       "    </tr>\n",
       "    <tr>\n",
       "      <th>3</th>\n",
       "      <td>2245</td>\n",
       "      <td>2245</td>\n",
       "      <td>1.56</td>\n",
       "      <td>897</td>\n",
       "      <td>174</td>\n",
       "      <td>0</td>\n",
       "      <td>0</td>\n",
       "      <td>709</td>\n",
       "    </tr>\n",
       "    <tr>\n",
       "      <th>4</th>\n",
       "      <td>2940</td>\n",
       "      <td>6629</td>\n",
       "      <td>5.23</td>\n",
       "      <td>622</td>\n",
       "      <td>171</td>\n",
       "      <td>77</td>\n",
       "      <td>46</td>\n",
       "      <td>1532</td>\n",
       "    </tr>\n",
       "    <tr>\n",
       "      <th>5</th>\n",
       "      <td>3114</td>\n",
       "      <td>7061</td>\n",
       "      <td>4.92</td>\n",
       "      <td>528</td>\n",
       "      <td>110</td>\n",
       "      <td>116</td>\n",
       "      <td>68</td>\n",
       "      <td>1710</td>\n",
       "    </tr>\n",
       "    <tr>\n",
       "      <th>6</th>\n",
       "      <td>2642</td>\n",
       "      <td>6293</td>\n",
       "      <td>4.39</td>\n",
       "      <td>598</td>\n",
       "      <td>183</td>\n",
       "      <td>25</td>\n",
       "      <td>31</td>\n",
       "      <td>1132</td>\n",
       "    </tr>\n",
       "    <tr>\n",
       "      <th>7</th>\n",
       "      <td>2229</td>\n",
       "      <td>1941</td>\n",
       "      <td>1.35</td>\n",
       "      <td>697</td>\n",
       "      <td>132</td>\n",
       "      <td>21</td>\n",
       "      <td>5</td>\n",
       "      <td>670</td>\n",
       "    </tr>\n",
       "    <tr>\n",
       "      <th>8</th>\n",
       "      <td>2481</td>\n",
       "      <td>4583</td>\n",
       "      <td>3.77</td>\n",
       "      <td>803</td>\n",
       "      <td>86</td>\n",
       "      <td>44</td>\n",
       "      <td>38</td>\n",
       "      <td>939</td>\n",
       "    </tr>\n",
       "    <tr>\n",
       "      <th>9</th>\n",
       "      <td>2313</td>\n",
       "      <td>1804</td>\n",
       "      <td>1.26</td>\n",
       "      <td>762</td>\n",
       "      <td>119</td>\n",
       "      <td>45</td>\n",
       "      <td>14</td>\n",
       "      <td>856</td>\n",
       "    </tr>\n",
       "  </tbody>\n",
       "</table>\n",
       "</div>"
      ],
      "text/plain": [
       "   Calories Burned  Steps  Distance  Minutes Sedentary  \\\n",
       "0             2615   5527      4.41                739   \n",
       "1             2372   5175      3.61                806   \n",
       "2             3045   9914      7.52                577   \n",
       "3             2245   2245      1.56                897   \n",
       "4             2940   6629      5.23                622   \n",
       "5             3114   7061      4.92                528   \n",
       "6             2642   6293      4.39                598   \n",
       "7             2229   1941      1.35                697   \n",
       "8             2481   4583      3.77                803   \n",
       "9             2313   1804      1.26                762   \n",
       "\n",
       "   Minutes Lightly Active  Minutes Fairly Active  Minutes Very Active  \\\n",
       "0                     153                     42                   31   \n",
       "1                     118                     21                   27   \n",
       "2                     238                     43                   41   \n",
       "3                     174                      0                    0   \n",
       "4                     171                     77                   46   \n",
       "5                     110                    116                   68   \n",
       "6                     183                     25                   31   \n",
       "7                     132                     21                    5   \n",
       "8                      86                     44                   38   \n",
       "9                     119                     45                   14   \n",
       "\n",
       "   Activity Calories  \n",
       "0               1134  \n",
       "1                816  \n",
       "2               1659  \n",
       "3                709  \n",
       "4               1532  \n",
       "5               1710  \n",
       "6               1132  \n",
       "7                670  \n",
       "8                939  \n",
       "9                856  "
      ]
     },
     "execution_count": 28,
     "metadata": {},
     "output_type": "execute_result"
    }
   ],
   "source": [
    "dataframe = pd.read_csv(\"input.csv\") # Let's have Pandas load our dataset as a dataframe\n",
    "dataframe = dataframe.drop([\"Date\", \"Floors\"], axis=1) # Remove columns we don't care about\n",
    "dataframe = dataframe[0:10] # We'll only use the first 10 rows of the dataset in this example\n",
    "dataframe = dataframe.replace({',': ''}, regex=True)\n",
    "dataframe = dataframe.apply(pd.to_numeric)\n",
    "dataframe # Let's have the notebook show us how the dataframe looks now"
   ]
  },
  {
   "cell_type": "markdown",
   "metadata": {},
   "source": [
    "The dataframe now only has the features. Let's introduce the labels."
   ]
  },
  {
   "cell_type": "code",
   "execution_count": 29,
   "metadata": {},
   "outputs": [
    {
     "data": {
      "text/html": [
       "<div>\n",
       "<style>\n",
       "    .dataframe thead tr:only-child th {\n",
       "        text-align: right;\n",
       "    }\n",
       "\n",
       "    .dataframe thead th {\n",
       "        text-align: left;\n",
       "    }\n",
       "\n",
       "    .dataframe tbody tr th {\n",
       "        vertical-align: top;\n",
       "    }\n",
       "</style>\n",
       "<table border=\"1\" class=\"dataframe\">\n",
       "  <thead>\n",
       "    <tr style=\"text-align: right;\">\n",
       "      <th></th>\n",
       "      <th>Minutes Asleep</th>\n",
       "      <th>Minutes Awake</th>\n",
       "      <th>Number of Awakenings</th>\n",
       "      <th>Time in Bed</th>\n",
       "    </tr>\n",
       "  </thead>\n",
       "  <tbody>\n",
       "    <tr>\n",
       "      <th>0</th>\n",
       "      <td>397</td>\n",
       "      <td>20</td>\n",
       "      <td>2</td>\n",
       "      <td>417</td>\n",
       "    </tr>\n",
       "    <tr>\n",
       "      <th>1</th>\n",
       "      <td>482</td>\n",
       "      <td>20</td>\n",
       "      <td>1</td>\n",
       "      <td>502</td>\n",
       "    </tr>\n",
       "    <tr>\n",
       "      <th>2</th>\n",
       "      <td>508</td>\n",
       "      <td>33</td>\n",
       "      <td>2</td>\n",
       "      <td>541</td>\n",
       "    </tr>\n",
       "    <tr>\n",
       "      <th>3</th>\n",
       "      <td>353</td>\n",
       "      <td>14</td>\n",
       "      <td>1</td>\n",
       "      <td>369</td>\n",
       "    </tr>\n",
       "    <tr>\n",
       "      <th>4</th>\n",
       "      <td>428</td>\n",
       "      <td>11</td>\n",
       "      <td>0</td>\n",
       "      <td>439</td>\n",
       "    </tr>\n",
       "    <tr>\n",
       "      <th>5</th>\n",
       "      <td>503</td>\n",
       "      <td>36</td>\n",
       "      <td>3</td>\n",
       "      <td>539</td>\n",
       "    </tr>\n",
       "    <tr>\n",
       "      <th>6</th>\n",
       "      <td>502</td>\n",
       "      <td>42</td>\n",
       "      <td>0</td>\n",
       "      <td>544</td>\n",
       "    </tr>\n",
       "    <tr>\n",
       "      <th>7</th>\n",
       "      <td>506</td>\n",
       "      <td>33</td>\n",
       "      <td>1</td>\n",
       "      <td>539</td>\n",
       "    </tr>\n",
       "    <tr>\n",
       "      <th>8</th>\n",
       "      <td>484</td>\n",
       "      <td>31</td>\n",
       "      <td>0</td>\n",
       "      <td>516</td>\n",
       "    </tr>\n",
       "    <tr>\n",
       "      <th>9</th>\n",
       "      <td>485</td>\n",
       "      <td>15</td>\n",
       "      <td>0</td>\n",
       "      <td>500</td>\n",
       "    </tr>\n",
       "  </tbody>\n",
       "</table>\n",
       "</div>"
      ],
      "text/plain": [
       "   Minutes Asleep  Minutes Awake  Number of Awakenings  Time in Bed\n",
       "0             397             20                     2          417\n",
       "1             482             20                     1          502\n",
       "2             508             33                     2          541\n",
       "3             353             14                     1          369\n",
       "4             428             11                     0          439\n",
       "5             503             36                     3          539\n",
       "6             502             42                     0          544\n",
       "7             506             33                     1          539\n",
       "8             484             31                     0          516\n",
       "9             485             15                     0          500"
      ]
     },
     "execution_count": 29,
     "metadata": {},
     "output_type": "execute_result"
    }
   ],
   "source": [
    "labels = pd.read_csv(\"output.csv\") # Let's have Pandas load our dataset as a dataframe\n",
    "labels = labels.drop([\"Date\"], axis=1) # Remove columns we don't care about\n",
    "labels = labels[0:10] # We'll only use the first 10 rows of the dataset in this example\n",
    "labels # Let's have the notebook show us how the dataframe looks now"
   ]
  },
  {
   "cell_type": "markdown",
   "metadata": {},
   "source": [
    "Now that we have all our data in the dataframe, we'll need to shape it in matrices to feed it to TensorFlow"
   ]
  },
  {
   "cell_type": "code",
   "execution_count": 30,
   "metadata": {
    "collapsed": true,
    "scrolled": false
   },
   "outputs": [],
   "source": [
    "inputX = dataframe.as_matrix()\n",
    "inputY = labels.as_matrix()"
   ]
  },
  {
   "cell_type": "markdown",
   "metadata": {},
   "source": [
    "So now our input matrix looks like this:"
   ]
  },
  {
   "cell_type": "code",
   "execution_count": 31,
   "metadata": {},
   "outputs": [
    {
     "data": {
      "text/plain": [
       "array([[  2.61500000e+03,   5.52700000e+03,   4.41000000e+00,\n",
       "          7.39000000e+02,   1.53000000e+02,   4.20000000e+01,\n",
       "          3.10000000e+01,   1.13400000e+03],\n",
       "       [  2.37200000e+03,   5.17500000e+03,   3.61000000e+00,\n",
       "          8.06000000e+02,   1.18000000e+02,   2.10000000e+01,\n",
       "          2.70000000e+01,   8.16000000e+02],\n",
       "       [  3.04500000e+03,   9.91400000e+03,   7.52000000e+00,\n",
       "          5.77000000e+02,   2.38000000e+02,   4.30000000e+01,\n",
       "          4.10000000e+01,   1.65900000e+03],\n",
       "       [  2.24500000e+03,   2.24500000e+03,   1.56000000e+00,\n",
       "          8.97000000e+02,   1.74000000e+02,   0.00000000e+00,\n",
       "          0.00000000e+00,   7.09000000e+02],\n",
       "       [  2.94000000e+03,   6.62900000e+03,   5.23000000e+00,\n",
       "          6.22000000e+02,   1.71000000e+02,   7.70000000e+01,\n",
       "          4.60000000e+01,   1.53200000e+03],\n",
       "       [  3.11400000e+03,   7.06100000e+03,   4.92000000e+00,\n",
       "          5.28000000e+02,   1.10000000e+02,   1.16000000e+02,\n",
       "          6.80000000e+01,   1.71000000e+03],\n",
       "       [  2.64200000e+03,   6.29300000e+03,   4.39000000e+00,\n",
       "          5.98000000e+02,   1.83000000e+02,   2.50000000e+01,\n",
       "          3.10000000e+01,   1.13200000e+03],\n",
       "       [  2.22900000e+03,   1.94100000e+03,   1.35000000e+00,\n",
       "          6.97000000e+02,   1.32000000e+02,   2.10000000e+01,\n",
       "          5.00000000e+00,   6.70000000e+02],\n",
       "       [  2.48100000e+03,   4.58300000e+03,   3.77000000e+00,\n",
       "          8.03000000e+02,   8.60000000e+01,   4.40000000e+01,\n",
       "          3.80000000e+01,   9.39000000e+02],\n",
       "       [  2.31300000e+03,   1.80400000e+03,   1.26000000e+00,\n",
       "          7.62000000e+02,   1.19000000e+02,   4.50000000e+01,\n",
       "          1.40000000e+01,   8.56000000e+02]])"
      ]
     },
     "execution_count": 31,
     "metadata": {},
     "output_type": "execute_result"
    }
   ],
   "source": [
    "inputX"
   ]
  },
  {
   "cell_type": "markdown",
   "metadata": {},
   "source": [
    "And our labels matrix looks like this:"
   ]
  },
  {
   "cell_type": "code",
   "execution_count": 32,
   "metadata": {},
   "outputs": [
    {
     "data": {
      "text/plain": [
       "array([[397,  20,   2, 417],\n",
       "       [482,  20,   1, 502],\n",
       "       [508,  33,   2, 541],\n",
       "       [353,  14,   1, 369],\n",
       "       [428,  11,   0, 439],\n",
       "       [503,  36,   3, 539],\n",
       "       [502,  42,   0, 544],\n",
       "       [506,  33,   1, 539],\n",
       "       [484,  31,   0, 516],\n",
       "       [485,  15,   0, 500]])"
      ]
     },
     "execution_count": 32,
     "metadata": {},
     "output_type": "execute_result"
    }
   ],
   "source": [
    "inputY"
   ]
  },
  {
   "cell_type": "markdown",
   "metadata": {},
   "source": [
    "Let's prepare some parameters for the training process"
   ]
  },
  {
   "cell_type": "code",
   "execution_count": 33,
   "metadata": {
    "collapsed": true
   },
   "outputs": [],
   "source": [
    "# Parameters\n",
    "learning_rate = 0.000001\n",
    "training_epochs = 2000\n",
    "display_step = 50\n",
    "n_samples = inputY.size"
   ]
  },
  {
   "cell_type": "markdown",
   "metadata": {},
   "source": [
    "And now to define the TensorFlow operations. Notice that this is a declaration step where we tell TensorFlow how the prediction is calculated. If we execute it, no calculation would be made. It would just acknowledge that it now knows how to do the operation."
   ]
  },
  {
   "cell_type": "code",
   "execution_count": 55,
   "metadata": {},
   "outputs": [],
   "source": [
    "x = tf.placeholder(tf.float32, [None, 8])   # Okay TensorFlow, we'll feed you an array of examples. Each example will\n",
    "                                            # be an array of two float values (area, and number of bathrooms).\n",
    "                                            # \"None\" means we can feed you any number of examples\n",
    "                                            # Notice we haven't fed it the values yet\n",
    "            \n",
    "W = tf.Variable(tf.zeros([8, 4]))           # Maintain a 2 x 2 float matrix for the weights that we'll keep updating \n",
    "                                            # through the training process (make them all zero to begin with)\n",
    "    \n",
    "b = tf.Variable(tf.zeros([4]))              # Also maintain two bias values\n",
    "\n",
    "y_values = tf.add(tf.matmul(x, W), b)       # The first step in calculating the prediction would be to multiply\n",
    "                                            # the inputs matrix by the weights matrix then add the biases\n",
    "    \n",
    "y = tf.nn.softmax(y_values)                 # Then we use softmax as an \"activation function\" that translates the\n",
    "                                            # numbers outputted by the previous layer into probability form\n",
    "    \n",
    "y_ = tf.placeholder(tf.float32, [None,4])   # For training purposes, we'll also feed you a matrix of labels"
   ]
  },
  {
   "cell_type": "markdown",
   "metadata": {},
   "source": [
    "Let's specify our cost function and use Gradient Descent"
   ]
  },
  {
   "cell_type": "code",
   "execution_count": 56,
   "metadata": {},
   "outputs": [],
   "source": [
    "\n",
    "# Cost function: Mean squared error\n",
    "cost = tf.reduce_sum(tf.pow(y_ - y, 2))/(2*n_samples)\n",
    "# Gradient descent\n",
    "optimizer = tf.train.GradientDescentOptimizer(learning_rate).minimize(cost)\n"
   ]
  },
  {
   "cell_type": "code",
   "execution_count": 57,
   "metadata": {},
   "outputs": [
    {
     "name": "stdout",
     "output_type": "stream",
     "text": [
      "WARNING:tensorflow:From <ipython-input-57-ebd23cbb6ad2>:2: initialize_all_variables (from tensorflow.python.ops.variables) is deprecated and will be removed after 2017-03-02.\n",
      "Instructions for updating:\n",
      "Use `tf.global_variables_initializer` instead.\n"
     ]
    }
   ],
   "source": [
    "# Initialize variabls and tensorflow session\n",
    "init = tf.initialize_all_variables()\n",
    "sess = tf.Session()\n",
    "sess.run(init)"
   ]
  },
  {
   "cell_type": "markdown",
   "metadata": {},
   "source": [
    "*Drum roll*\n",
    "\n",
    "And now for the actual training"
   ]
  },
  {
   "cell_type": "code",
   "execution_count": 58,
   "metadata": {
    "scrolled": false
   },
   "outputs": [
    {
     "name": "stdout",
     "output_type": "stream",
     "text": [
      "Training step: 0000 cost= 4141163.250000000\n",
      "Training step: 0050 cost= nan\n",
      "Training step: 0100 cost= nan\n",
      "Training step: 0150 cost= nan\n",
      "Training step: 0200 cost= nan\n",
      "Training step: 0250 cost= nan\n",
      "Training step: 0300 cost= nan\n",
      "Training step: 0350 cost= nan\n",
      "Training step: 0400 cost= nan\n",
      "Training step: 0450 cost= nan\n",
      "Training step: 0500 cost= nan\n",
      "Training step: 0550 cost= nan\n",
      "Training step: 0600 cost= nan\n",
      "Training step: 0650 cost= nan\n",
      "Training step: 0700 cost= nan\n",
      "Training step: 0750 cost= nan\n",
      "Training step: 0800 cost= nan\n",
      "Training step: 0850 cost= nan\n",
      "Training step: 0900 cost= nan\n",
      "Training step: 0950 cost= nan\n",
      "Training step: 1000 cost= nan\n",
      "Training step: 1050 cost= nan\n",
      "Training step: 1100 cost= nan\n",
      "Training step: 1150 cost= nan\n",
      "Training step: 1200 cost= nan\n",
      "Training step: 1250 cost= nan\n",
      "Training step: 1300 cost= nan\n",
      "Training step: 1350 cost= nan\n",
      "Training step: 1400 cost= nan\n",
      "Training step: 1450 cost= nan\n",
      "Training step: 1500 cost= nan\n",
      "Training step: 1550 cost= nan\n",
      "Training step: 1600 cost= nan\n",
      "Training step: 1650 cost= nan\n",
      "Training step: 1700 cost= nan\n",
      "Training step: 1750 cost= nan\n",
      "Training step: 1800 cost= nan\n",
      "Training step: 1850 cost= nan\n",
      "Training step: 1900 cost= nan\n",
      "Training step: 1950 cost= nan\n",
      "Optimization Finished!\n",
      "Training cost= nan W= [[ nan  nan  nan  nan]\n",
      " [ nan  nan  nan  nan]\n",
      " [ nan  nan  nan  nan]\n",
      " [ nan  nan  nan  nan]\n",
      " [ nan  nan  nan  nan]\n",
      " [ nan  nan  nan  nan]\n",
      " [ nan  nan  nan  nan]\n",
      " [ nan  nan  nan  nan]] b= [ nan  nan  nan  nan] \n",
      "\n"
     ]
    }
   ],
   "source": [
    "for i in range(training_epochs):  \n",
    "    sess.run(optimizer, feed_dict={x: inputX, y_: inputY}) # Take a gradient descent step using our inputs and labels\n",
    "\n",
    "    # That's all! The rest of the cell just outputs debug messages. \n",
    "    # Display logs per epoch step\n",
    "    if (i) % display_step == 0:\n",
    "        cc = sess.run(cost, feed_dict={x: inputX, y_:inputY})\n",
    "        print \"Training step:\", '%04d' % (i), \"cost=\", \"{:.9f}\".format(cc) #, \\\"W=\", sess.run(W), \"b=\", sess.run(b)\n",
    "\n",
    "print \"Optimization Finished!\"\n",
    "training_cost = sess.run(cost, feed_dict={x: inputX, y_: inputY})\n",
    "print \"Training cost=\", training_cost, \"W=\", sess.run(W), \"b=\", sess.run(b), '\\n'\n"
   ]
  },
  {
   "cell_type": "markdown",
   "metadata": {
    "collapsed": true
   },
   "source": [
    "Now the training is done. TensorFlow is now holding on to our trained model (Which is basically just the defined operations, plus the variables W and b that resulted from the training process).\n",
    "\n",
    "Is a cost value of 0.109537 good or bad? I have no idea. At least it's better than the first cost value of 0.114958666. Let's use the model on our dataset to see how it does, though:"
   ]
  },
  {
   "cell_type": "code",
   "execution_count": 59,
   "metadata": {},
   "outputs": [
    {
     "data": {
      "text/plain": [
       "array([[ nan,  nan,  nan,  nan],\n",
       "       [ nan,  nan,  nan,  nan],\n",
       "       [ nan,  nan,  nan,  nan],\n",
       "       [ nan,  nan,  nan,  nan],\n",
       "       [ nan,  nan,  nan,  nan],\n",
       "       [ nan,  nan,  nan,  nan],\n",
       "       [ nan,  nan,  nan,  nan],\n",
       "       [ nan,  nan,  nan,  nan],\n",
       "       [ nan,  nan,  nan,  nan],\n",
       "       [ nan,  nan,  nan,  nan]], dtype=float32)"
      ]
     },
     "execution_count": 59,
     "metadata": {},
     "output_type": "execute_result"
    }
   ],
   "source": [
    "sess.run(y, feed_dict={x: inputX })"
   ]
  },
  {
   "cell_type": "markdown",
   "metadata": {},
   "source": [
    "So It's guessing they're all good houses. That makes it get 7/10 correct. Not terribly impressive. A model with a hidden layer should do better, I guess."
   ]
  },
  {
   "cell_type": "markdown",
   "metadata": {},
   "source": [
    "Btw, this is how I calculated the softmax values in the post:"
   ]
  },
  {
   "cell_type": "code",
   "execution_count": 14,
   "metadata": {},
   "outputs": [
    {
     "data": {
      "text/plain": [
       "array([ 0.26894143,  0.7310586 ], dtype=float32)"
      ]
     },
     "execution_count": 14,
     "metadata": {},
     "output_type": "execute_result"
    }
   ],
   "source": [
    "sess.run(tf.nn.softmax([1., 2.]))"
   ]
  },
  {
   "cell_type": "code",
   "execution_count": null,
   "metadata": {
    "collapsed": true
   },
   "outputs": [],
   "source": []
  }
 ],
 "metadata": {
  "anaconda-cloud": {},
  "kernelspec": {
   "display_name": "Python 2",
   "language": "python",
   "name": "python2"
  },
  "language_info": {
   "codemirror_mode": {
    "name": "ipython",
    "version": 2
   },
   "file_extension": ".py",
   "mimetype": "text/x-python",
   "name": "python",
   "nbconvert_exporter": "python",
   "pygments_lexer": "ipython2",
   "version": "2.7.12"
  }
 },
 "nbformat": 4,
 "nbformat_minor": 1
}
